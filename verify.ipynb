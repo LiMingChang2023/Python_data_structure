{
 "cells": [
  {
   "cell_type": "code",
   "execution_count": 3,
   "metadata": {},
   "outputs": [
    {
     "name": "stdout",
     "output_type": "stream",
     "text": [
      "74\n",
      "82\n",
      "73\n",
      "25\n",
      "60\n",
      "31\n",
      "26\n",
      "78\n",
      "25\n",
      "9\n",
      "91\n",
      "56\n",
      "2\n",
      "84\n",
      "38\n",
      "75\n",
      "63\n",
      "41\n",
      "49\n",
      "71\n"
     ]
    }
   ],
   "source": [
    "from tree import BST\n",
    "import random\n",
    "t = BST()\n",
    "for _ in range(20):\n",
    "    i = random.randint(0, 100)\n",
    "    print(i)\n",
    "    t.insert(i)\n",
    "\n",
    "# t.traversal('preorder')"
   ]
  },
  {
   "cell_type": "code",
   "execution_count": 4,
   "metadata": {},
   "outputs": [
    {
     "name": "stdout",
     "output_type": "stream",
     "text": [
      "74\n",
      "73\n",
      "25\n",
      "25\n",
      "9\n",
      "2\n",
      "60\n",
      "31\n",
      "26\n",
      "56\n",
      "38\n",
      "41\n",
      "49\n",
      "63\n",
      "71\n",
      "82\n",
      "78\n",
      "75\n",
      "91\n",
      "84\n"
     ]
    }
   ],
   "source": [
    "t.traversal('preorder')"
   ]
  },
  {
   "cell_type": "code",
   "execution_count": null,
   "metadata": {},
   "outputs": [],
   "source": []
  }
 ],
 "metadata": {
  "kernelspec": {
   "display_name": "Python 3",
   "language": "python",
   "name": "python3"
  },
  "language_info": {
   "codemirror_mode": {
    "name": "ipython",
    "version": 3
   },
   "file_extension": ".py",
   "mimetype": "text/x-python",
   "name": "python",
   "nbconvert_exporter": "python",
   "pygments_lexer": "ipython3",
   "version": "3.10.10"
  }
 },
 "nbformat": 4,
 "nbformat_minor": 2
}
